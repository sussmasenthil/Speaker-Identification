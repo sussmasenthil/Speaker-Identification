{
 "cells": [
  {
   "cell_type": "code",
   "execution_count": 1,
   "metadata": {},
   "outputs": [],
   "source": [
    "import pandas as pd\n",
    "import numpy as np\n",
    "import matplotlib.pyplot as plt\n",
    "from tkinter import filedialog\n",
    "from tkinter import *\n",
    "from tkinter import ttk\n",
    "from tkinter import messagebox as ms\n",
    "from PIL import ImageTk, Image\n",
    "import librosa as lr"
   ]
  },
  {
   "cell_type": "code",
   "execution_count": 2,
   "metadata": {},
   "outputs": [
    {
     "data": {
      "text/html": [
       "<div>\n",
       "<style scoped>\n",
       "    .dataframe tbody tr th:only-of-type {\n",
       "        vertical-align: middle;\n",
       "    }\n",
       "\n",
       "    .dataframe tbody tr th {\n",
       "        vertical-align: top;\n",
       "    }\n",
       "\n",
       "    .dataframe thead th {\n",
       "        text-align: right;\n",
       "    }\n",
       "</style>\n",
       "<table border=\"1\" class=\"dataframe\">\n",
       "  <thead>\n",
       "    <tr style=\"text-align: right;\">\n",
       "      <th></th>\n",
       "      <th>ID</th>\n",
       "      <th>max_pitch</th>\n",
       "      <th>avg_pitch</th>\n",
       "      <th>var_pitch</th>\n",
       "      <th>harmonic</th>\n",
       "      <th>harmonic_var</th>\n",
       "      <th>percussive</th>\n",
       "      <th>percussive_var</th>\n",
       "      <th>Chroma_cens</th>\n",
       "      <th>Chroma_cens_var</th>\n",
       "      <th>...</th>\n",
       "      <th>tonnetz_var</th>\n",
       "      <th>poly_features_mean</th>\n",
       "      <th>poly_features_var</th>\n",
       "      <th>spec_bw_mean</th>\n",
       "      <th>spec_bw_var</th>\n",
       "      <th>rmse_mean</th>\n",
       "      <th>rmse_var</th>\n",
       "      <th>melspec_mean</th>\n",
       "      <th>melspec_var</th>\n",
       "      <th>Gender</th>\n",
       "    </tr>\n",
       "  </thead>\n",
       "  <tbody>\n",
       "    <tr>\n",
       "      <th>0</th>\n",
       "      <td>id10270</td>\n",
       "      <td>3997.841064</td>\n",
       "      <td>42.346413</td>\n",
       "      <td>96089.29688</td>\n",
       "      <td>-1.560000e-06</td>\n",
       "      <td>0.000202</td>\n",
       "      <td>-0.000006</td>\n",
       "      <td>0.000108</td>\n",
       "      <td>0.242919</td>\n",
       "      <td>0.024324</td>\n",
       "      <td>...</td>\n",
       "      <td>0.005452</td>\n",
       "      <td>0.213742</td>\n",
       "      <td>0.090299</td>\n",
       "      <td>1832.898065</td>\n",
       "      <td>66277.90445</td>\n",
       "      <td>0.016548</td>\n",
       "      <td>0.000126</td>\n",
       "      <td>0.087206</td>\n",
       "      <td>0.474396</td>\n",
       "      <td>0</td>\n",
       "    </tr>\n",
       "    <tr>\n",
       "      <th>1</th>\n",
       "      <td>id10270</td>\n",
       "      <td>3990.921631</td>\n",
       "      <td>24.817791</td>\n",
       "      <td>54618.11719</td>\n",
       "      <td>-1.270000e-07</td>\n",
       "      <td>0.000372</td>\n",
       "      <td>-0.000011</td>\n",
       "      <td>0.000095</td>\n",
       "      <td>0.230322</td>\n",
       "      <td>0.030285</td>\n",
       "      <td>...</td>\n",
       "      <td>0.005598</td>\n",
       "      <td>0.233429</td>\n",
       "      <td>0.088407</td>\n",
       "      <td>1788.479207</td>\n",
       "      <td>79085.42978</td>\n",
       "      <td>0.021079</td>\n",
       "      <td>0.000134</td>\n",
       "      <td>0.131519</td>\n",
       "      <td>1.215273</td>\n",
       "      <td>0</td>\n",
       "    </tr>\n",
       "    <tr>\n",
       "      <th>2</th>\n",
       "      <td>id10270</td>\n",
       "      <td>3998.479736</td>\n",
       "      <td>42.045082</td>\n",
       "      <td>96594.42188</td>\n",
       "      <td>2.510000e-07</td>\n",
       "      <td>0.000216</td>\n",
       "      <td>-0.000007</td>\n",
       "      <td>0.000082</td>\n",
       "      <td>0.236287</td>\n",
       "      <td>0.027502</td>\n",
       "      <td>...</td>\n",
       "      <td>0.004188</td>\n",
       "      <td>0.227063</td>\n",
       "      <td>0.076282</td>\n",
       "      <td>1769.345148</td>\n",
       "      <td>92095.92280</td>\n",
       "      <td>0.017476</td>\n",
       "      <td>0.000081</td>\n",
       "      <td>0.085588</td>\n",
       "      <td>0.315356</td>\n",
       "      <td>0</td>\n",
       "    </tr>\n",
       "    <tr>\n",
       "      <th>3</th>\n",
       "      <td>id10270</td>\n",
       "      <td>3999.575439</td>\n",
       "      <td>44.815517</td>\n",
       "      <td>102965.95310</td>\n",
       "      <td>2.490000e-06</td>\n",
       "      <td>0.000615</td>\n",
       "      <td>0.000003</td>\n",
       "      <td>0.000221</td>\n",
       "      <td>0.253536</td>\n",
       "      <td>0.019053</td>\n",
       "      <td>...</td>\n",
       "      <td>0.004053</td>\n",
       "      <td>0.290899</td>\n",
       "      <td>0.195379</td>\n",
       "      <td>1841.708591</td>\n",
       "      <td>83468.48921</td>\n",
       "      <td>0.025059</td>\n",
       "      <td>0.000499</td>\n",
       "      <td>0.251364</td>\n",
       "      <td>7.590028</td>\n",
       "      <td>0</td>\n",
       "    </tr>\n",
       "    <tr>\n",
       "      <th>4</th>\n",
       "      <td>id10270</td>\n",
       "      <td>3996.976074</td>\n",
       "      <td>33.027214</td>\n",
       "      <td>70115.64063</td>\n",
       "      <td>-4.280000e-07</td>\n",
       "      <td>0.000500</td>\n",
       "      <td>-0.000011</td>\n",
       "      <td>0.000292</td>\n",
       "      <td>0.247803</td>\n",
       "      <td>0.021927</td>\n",
       "      <td>...</td>\n",
       "      <td>0.004426</td>\n",
       "      <td>0.337164</td>\n",
       "      <td>0.207456</td>\n",
       "      <td>1674.683319</td>\n",
       "      <td>79977.60057</td>\n",
       "      <td>0.027922</td>\n",
       "      <td>0.000351</td>\n",
       "      <td>0.253995</td>\n",
       "      <td>7.818778</td>\n",
       "      <td>0</td>\n",
       "    </tr>\n",
       "  </tbody>\n",
       "</table>\n",
       "<p>5 rows × 37 columns</p>\n",
       "</div>"
      ],
      "text/plain": [
       "        ID    max_pitch  avg_pitch     var_pitch      harmonic  harmonic_var  \\\n",
       "0  id10270  3997.841064  42.346413   96089.29688 -1.560000e-06      0.000202   \n",
       "1  id10270  3990.921631  24.817791   54618.11719 -1.270000e-07      0.000372   \n",
       "2  id10270  3998.479736  42.045082   96594.42188  2.510000e-07      0.000216   \n",
       "3  id10270  3999.575439  44.815517  102965.95310  2.490000e-06      0.000615   \n",
       "4  id10270  3996.976074  33.027214   70115.64063 -4.280000e-07      0.000500   \n",
       "\n",
       "   percussive  percussive_var  Chroma_cens  Chroma_cens_var   ...    \\\n",
       "0   -0.000006        0.000108     0.242919         0.024324   ...     \n",
       "1   -0.000011        0.000095     0.230322         0.030285   ...     \n",
       "2   -0.000007        0.000082     0.236287         0.027502   ...     \n",
       "3    0.000003        0.000221     0.253536         0.019053   ...     \n",
       "4   -0.000011        0.000292     0.247803         0.021927   ...     \n",
       "\n",
       "   tonnetz_var  poly_features_mean  poly_features_var  spec_bw_mean  \\\n",
       "0     0.005452            0.213742           0.090299   1832.898065   \n",
       "1     0.005598            0.233429           0.088407   1788.479207   \n",
       "2     0.004188            0.227063           0.076282   1769.345148   \n",
       "3     0.004053            0.290899           0.195379   1841.708591   \n",
       "4     0.004426            0.337164           0.207456   1674.683319   \n",
       "\n",
       "   spec_bw_var  rmse_mean  rmse_var  melspec_mean  melspec_var  Gender  \n",
       "0  66277.90445   0.016548  0.000126      0.087206     0.474396       0  \n",
       "1  79085.42978   0.021079  0.000134      0.131519     1.215273       0  \n",
       "2  92095.92280   0.017476  0.000081      0.085588     0.315356       0  \n",
       "3  83468.48921   0.025059  0.000499      0.251364     7.590028       0  \n",
       "4  79977.60057   0.027922  0.000351      0.253995     7.818778       0  \n",
       "\n",
       "[5 rows x 37 columns]"
      ]
     },
     "execution_count": 2,
     "metadata": {},
     "output_type": "execute_result"
    }
   ],
   "source": [
    "df = pd.read_csv('Audio_features01.csv')\n",
    "df = pd.DataFrame(df)\n",
    "df.Gender = df.Gender.map({'m':1,'f':0})\n",
    "df.head()"
   ]
  },
  {
   "cell_type": "code",
   "execution_count": 3,
   "metadata": {},
   "outputs": [
    {
     "data": {
      "text/plain": [
       "max_pitch             3.093775e+03\n",
       "avg_pitch             1.399577e+02\n",
       "var_pitch             9.343427e+08\n",
       "harmonic              5.505517e-07\n",
       "harmonic_var          7.224100e-06\n",
       "percussive            2.550444e-08\n",
       "percussive_var        3.898231e-06\n",
       "Chroma_cens           1.497719e-04\n",
       "Chroma_cens_var       3.622834e-05\n",
       "chroma_stft_mean      2.100154e-03\n",
       "chroma_stft_var       3.589528e-05\n",
       "chroma_cqt_mean       1.887063e-03\n",
       "chroma_cqt_var        8.239181e-05\n",
       "Mfccs                 2.546947e+01\n",
       "Mfccs_var             8.427385e+06\n",
       "mfcc_delta_mean       2.703507e-04\n",
       "mfcc_delta_var        2.264692e+00\n",
       "Contrast              1.887962e+00\n",
       "Contrast_var          9.869399e+02\n",
       "Rolloff               4.231160e+05\n",
       "Rolloff_var           6.478189e+11\n",
       "Zrate                 4.237331e-04\n",
       "Zrate_var             2.221433e-06\n",
       "Cent                  1.196876e+05\n",
       "Cent_var              1.536434e+11\n",
       "tonnetz_mean          3.852231e-05\n",
       "tonnetz_var           1.611023e-06\n",
       "poly_features_mean    9.943555e-02\n",
       "poly_features_var     8.455482e-01\n",
       "spec_bw_mean          3.138504e+04\n",
       "spec_bw_var           3.683553e+09\n",
       "rmse_mean             7.398477e-04\n",
       "rmse_var              1.863819e-06\n",
       "melspec_mean          1.649766e+00\n",
       "melspec_var           1.756189e+06\n",
       "Gender                2.090601e-01\n",
       "dtype: float64"
      ]
     },
     "execution_count": 3,
     "metadata": {},
     "output_type": "execute_result"
    }
   ],
   "source": [
    "df.var()"
   ]
  },
  {
   "cell_type": "code",
   "execution_count": 4,
   "metadata": {
    "scrolled": true
   },
   "outputs": [
    {
     "data": {
      "text/html": [
       "<div>\n",
       "<style scoped>\n",
       "    .dataframe tbody tr th:only-of-type {\n",
       "        vertical-align: middle;\n",
       "    }\n",
       "\n",
       "    .dataframe tbody tr th {\n",
       "        vertical-align: top;\n",
       "    }\n",
       "\n",
       "    .dataframe thead th {\n",
       "        text-align: right;\n",
       "    }\n",
       "</style>\n",
       "<table border=\"1\" class=\"dataframe\">\n",
       "  <thead>\n",
       "    <tr style=\"text-align: right;\">\n",
       "      <th></th>\n",
       "      <th>max_pitch</th>\n",
       "      <th>avg_pitch</th>\n",
       "      <th>var_pitch</th>\n",
       "      <th>harmonic</th>\n",
       "      <th>harmonic_var</th>\n",
       "      <th>percussive</th>\n",
       "      <th>percussive_var</th>\n",
       "      <th>Chroma_cens</th>\n",
       "      <th>Chroma_cens_var</th>\n",
       "      <th>chroma_stft_mean</th>\n",
       "      <th>...</th>\n",
       "      <th>tonnetz_var</th>\n",
       "      <th>poly_features_mean</th>\n",
       "      <th>poly_features_var</th>\n",
       "      <th>spec_bw_mean</th>\n",
       "      <th>spec_bw_var</th>\n",
       "      <th>rmse_mean</th>\n",
       "      <th>rmse_var</th>\n",
       "      <th>melspec_mean</th>\n",
       "      <th>melspec_var</th>\n",
       "      <th>Gender</th>\n",
       "    </tr>\n",
       "  </thead>\n",
       "  <tbody>\n",
       "    <tr>\n",
       "      <th>0</th>\n",
       "      <td>3997.841064</td>\n",
       "      <td>42.346413</td>\n",
       "      <td>96089.29688</td>\n",
       "      <td>-1.560000e-06</td>\n",
       "      <td>0.000202</td>\n",
       "      <td>-0.000006</td>\n",
       "      <td>0.000108</td>\n",
       "      <td>0.242919</td>\n",
       "      <td>0.024324</td>\n",
       "      <td>0.339705</td>\n",
       "      <td>...</td>\n",
       "      <td>0.005452</td>\n",
       "      <td>0.213742</td>\n",
       "      <td>0.090299</td>\n",
       "      <td>1832.898065</td>\n",
       "      <td>66277.90445</td>\n",
       "      <td>0.016548</td>\n",
       "      <td>0.000126</td>\n",
       "      <td>0.087206</td>\n",
       "      <td>0.474396</td>\n",
       "      <td>0</td>\n",
       "    </tr>\n",
       "    <tr>\n",
       "      <th>1</th>\n",
       "      <td>3990.921631</td>\n",
       "      <td>24.817791</td>\n",
       "      <td>54618.11719</td>\n",
       "      <td>-1.270000e-07</td>\n",
       "      <td>0.000372</td>\n",
       "      <td>-0.000011</td>\n",
       "      <td>0.000095</td>\n",
       "      <td>0.230322</td>\n",
       "      <td>0.030285</td>\n",
       "      <td>0.285754</td>\n",
       "      <td>...</td>\n",
       "      <td>0.005598</td>\n",
       "      <td>0.233429</td>\n",
       "      <td>0.088407</td>\n",
       "      <td>1788.479207</td>\n",
       "      <td>79085.42978</td>\n",
       "      <td>0.021079</td>\n",
       "      <td>0.000134</td>\n",
       "      <td>0.131519</td>\n",
       "      <td>1.215273</td>\n",
       "      <td>0</td>\n",
       "    </tr>\n",
       "    <tr>\n",
       "      <th>2</th>\n",
       "      <td>3998.479736</td>\n",
       "      <td>42.045082</td>\n",
       "      <td>96594.42188</td>\n",
       "      <td>2.510000e-07</td>\n",
       "      <td>0.000216</td>\n",
       "      <td>-0.000007</td>\n",
       "      <td>0.000082</td>\n",
       "      <td>0.236287</td>\n",
       "      <td>0.027502</td>\n",
       "      <td>0.358004</td>\n",
       "      <td>...</td>\n",
       "      <td>0.004188</td>\n",
       "      <td>0.227063</td>\n",
       "      <td>0.076282</td>\n",
       "      <td>1769.345148</td>\n",
       "      <td>92095.92280</td>\n",
       "      <td>0.017476</td>\n",
       "      <td>0.000081</td>\n",
       "      <td>0.085588</td>\n",
       "      <td>0.315356</td>\n",
       "      <td>0</td>\n",
       "    </tr>\n",
       "    <tr>\n",
       "      <th>3</th>\n",
       "      <td>3999.575439</td>\n",
       "      <td>44.815517</td>\n",
       "      <td>102965.95310</td>\n",
       "      <td>2.490000e-06</td>\n",
       "      <td>0.000615</td>\n",
       "      <td>0.000003</td>\n",
       "      <td>0.000221</td>\n",
       "      <td>0.253536</td>\n",
       "      <td>0.019053</td>\n",
       "      <td>0.387897</td>\n",
       "      <td>...</td>\n",
       "      <td>0.004053</td>\n",
       "      <td>0.290899</td>\n",
       "      <td>0.195379</td>\n",
       "      <td>1841.708591</td>\n",
       "      <td>83468.48921</td>\n",
       "      <td>0.025059</td>\n",
       "      <td>0.000499</td>\n",
       "      <td>0.251364</td>\n",
       "      <td>7.590028</td>\n",
       "      <td>0</td>\n",
       "    </tr>\n",
       "    <tr>\n",
       "      <th>4</th>\n",
       "      <td>3996.976074</td>\n",
       "      <td>33.027214</td>\n",
       "      <td>70115.64063</td>\n",
       "      <td>-4.280000e-07</td>\n",
       "      <td>0.000500</td>\n",
       "      <td>-0.000011</td>\n",
       "      <td>0.000292</td>\n",
       "      <td>0.247803</td>\n",
       "      <td>0.021927</td>\n",
       "      <td>0.347066</td>\n",
       "      <td>...</td>\n",
       "      <td>0.004426</td>\n",
       "      <td>0.337164</td>\n",
       "      <td>0.207456</td>\n",
       "      <td>1674.683319</td>\n",
       "      <td>79977.60057</td>\n",
       "      <td>0.027922</td>\n",
       "      <td>0.000351</td>\n",
       "      <td>0.253995</td>\n",
       "      <td>7.818778</td>\n",
       "      <td>0</td>\n",
       "    </tr>\n",
       "  </tbody>\n",
       "</table>\n",
       "<p>5 rows × 36 columns</p>\n",
       "</div>"
      ],
      "text/plain": [
       "     max_pitch  avg_pitch     var_pitch      harmonic  harmonic_var  \\\n",
       "0  3997.841064  42.346413   96089.29688 -1.560000e-06      0.000202   \n",
       "1  3990.921631  24.817791   54618.11719 -1.270000e-07      0.000372   \n",
       "2  3998.479736  42.045082   96594.42188  2.510000e-07      0.000216   \n",
       "3  3999.575439  44.815517  102965.95310  2.490000e-06      0.000615   \n",
       "4  3996.976074  33.027214   70115.64063 -4.280000e-07      0.000500   \n",
       "\n",
       "   percussive  percussive_var  Chroma_cens  Chroma_cens_var  chroma_stft_mean  \\\n",
       "0   -0.000006        0.000108     0.242919         0.024324          0.339705   \n",
       "1   -0.000011        0.000095     0.230322         0.030285          0.285754   \n",
       "2   -0.000007        0.000082     0.236287         0.027502          0.358004   \n",
       "3    0.000003        0.000221     0.253536         0.019053          0.387897   \n",
       "4   -0.000011        0.000292     0.247803         0.021927          0.347066   \n",
       "\n",
       "    ...    tonnetz_var  poly_features_mean  poly_features_var  spec_bw_mean  \\\n",
       "0   ...       0.005452            0.213742           0.090299   1832.898065   \n",
       "1   ...       0.005598            0.233429           0.088407   1788.479207   \n",
       "2   ...       0.004188            0.227063           0.076282   1769.345148   \n",
       "3   ...       0.004053            0.290899           0.195379   1841.708591   \n",
       "4   ...       0.004426            0.337164           0.207456   1674.683319   \n",
       "\n",
       "   spec_bw_var  rmse_mean  rmse_var  melspec_mean  melspec_var  Gender  \n",
       "0  66277.90445   0.016548  0.000126      0.087206     0.474396       0  \n",
       "1  79085.42978   0.021079  0.000134      0.131519     1.215273       0  \n",
       "2  92095.92280   0.017476  0.000081      0.085588     0.315356       0  \n",
       "3  83468.48921   0.025059  0.000499      0.251364     7.590028       0  \n",
       "4  79977.60057   0.027922  0.000351      0.253995     7.818778       0  \n",
       "\n",
       "[5 rows x 36 columns]"
      ]
     },
     "execution_count": 4,
     "metadata": {},
     "output_type": "execute_result"
    }
   ],
   "source": [
    "from sklearn.preprocessing import LabelEncoder\n",
    "pred = df.drop(['ID'],axis =1)\n",
    "col = list(pred.columns)\n",
    "enc = LabelEncoder()\n",
    "target = enc.fit_transform(df.ID)\n",
    "pred.head()\n",
    "#target = pd.DataFrame(target,columns=['target'])\n",
    "#target.head()\n",
    "#targets = pd.DataFrame(target)\n",
    "#targets.head()"
   ]
  },
  {
   "cell_type": "markdown",
   "metadata": {},
   "source": [
    "# Normalization of Data"
   ]
  },
  {
   "cell_type": "code",
   "execution_count": 5,
   "metadata": {},
   "outputs": [
    {
     "data": {
      "text/html": [
       "<div>\n",
       "<style scoped>\n",
       "    .dataframe tbody tr th:only-of-type {\n",
       "        vertical-align: middle;\n",
       "    }\n",
       "\n",
       "    .dataframe tbody tr th {\n",
       "        vertical-align: top;\n",
       "    }\n",
       "\n",
       "    .dataframe thead th {\n",
       "        text-align: right;\n",
       "    }\n",
       "</style>\n",
       "<table border=\"1\" class=\"dataframe\">\n",
       "  <thead>\n",
       "    <tr style=\"text-align: right;\">\n",
       "      <th></th>\n",
       "      <th>max_pitch</th>\n",
       "      <th>avg_pitch</th>\n",
       "      <th>var_pitch</th>\n",
       "      <th>harmonic</th>\n",
       "      <th>harmonic_var</th>\n",
       "      <th>percussive</th>\n",
       "      <th>percussive_var</th>\n",
       "      <th>Chroma_cens</th>\n",
       "      <th>Chroma_cens_var</th>\n",
       "      <th>chroma_stft_mean</th>\n",
       "      <th>...</th>\n",
       "      <th>tonnetz_var</th>\n",
       "      <th>poly_features_mean</th>\n",
       "      <th>poly_features_var</th>\n",
       "      <th>spec_bw_mean</th>\n",
       "      <th>spec_bw_var</th>\n",
       "      <th>rmse_mean</th>\n",
       "      <th>rmse_var</th>\n",
       "      <th>melspec_mean</th>\n",
       "      <th>melspec_var</th>\n",
       "      <th>Gender</th>\n",
       "    </tr>\n",
       "  </thead>\n",
       "  <tbody>\n",
       "    <tr>\n",
       "      <th>0</th>\n",
       "      <td>0.134618</td>\n",
       "      <td>1.497048</td>\n",
       "      <td>1.427502</td>\n",
       "      <td>0.013215</td>\n",
       "      <td>-0.367059</td>\n",
       "      <td>-0.025919</td>\n",
       "      <td>-0.609430</td>\n",
       "      <td>-0.435296</td>\n",
       "      <td>0.459593</td>\n",
       "      <td>0.055698</td>\n",
       "      <td>...</td>\n",
       "      <td>0.335613</td>\n",
       "      <td>-0.757561</td>\n",
       "      <td>-0.535312</td>\n",
       "      <td>1.564331</td>\n",
       "      <td>-1.714809</td>\n",
       "      <td>-0.879058</td>\n",
       "      <td>-0.618564</td>\n",
       "      <td>-0.510132</td>\n",
       "      <td>-0.115543</td>\n",
       "      <td>-1.536454</td>\n",
       "    </tr>\n",
       "    <tr>\n",
       "      <th>1</th>\n",
       "      <td>0.010203</td>\n",
       "      <td>0.015233</td>\n",
       "      <td>0.070633</td>\n",
       "      <td>0.015147</td>\n",
       "      <td>-0.303830</td>\n",
       "      <td>-0.055289</td>\n",
       "      <td>-0.616144</td>\n",
       "      <td>-1.464748</td>\n",
       "      <td>1.450149</td>\n",
       "      <td>-1.121674</td>\n",
       "      <td>...</td>\n",
       "      <td>0.450154</td>\n",
       "      <td>-0.695120</td>\n",
       "      <td>-0.537370</td>\n",
       "      <td>1.313576</td>\n",
       "      <td>-1.503763</td>\n",
       "      <td>-0.712445</td>\n",
       "      <td>-0.612577</td>\n",
       "      <td>-0.475628</td>\n",
       "      <td>-0.114983</td>\n",
       "      <td>-1.536454</td>\n",
       "    </tr>\n",
       "    <tr>\n",
       "      <th>2</th>\n",
       "      <td>0.146101</td>\n",
       "      <td>1.471575</td>\n",
       "      <td>1.444029</td>\n",
       "      <td>0.015656</td>\n",
       "      <td>-0.361652</td>\n",
       "      <td>-0.028862</td>\n",
       "      <td>-0.622881</td>\n",
       "      <td>-0.977221</td>\n",
       "      <td>0.987616</td>\n",
       "      <td>0.455043</td>\n",
       "      <td>...</td>\n",
       "      <td>-0.660327</td>\n",
       "      <td>-0.715312</td>\n",
       "      <td>-0.550556</td>\n",
       "      <td>1.205559</td>\n",
       "      <td>-1.289373</td>\n",
       "      <td>-0.844925</td>\n",
       "      <td>-0.651262</td>\n",
       "      <td>-0.511391</td>\n",
       "      <td>-0.115663</td>\n",
       "      <td>-1.536454</td>\n",
       "    </tr>\n",
       "    <tr>\n",
       "      <th>3</th>\n",
       "      <td>0.165802</td>\n",
       "      <td>1.705779</td>\n",
       "      <td>1.652495</td>\n",
       "      <td>0.018674</td>\n",
       "      <td>-0.213264</td>\n",
       "      <td>0.034075</td>\n",
       "      <td>-0.552192</td>\n",
       "      <td>0.432367</td>\n",
       "      <td>-0.416241</td>\n",
       "      <td>1.107418</td>\n",
       "      <td>...</td>\n",
       "      <td>-0.767128</td>\n",
       "      <td>-0.512851</td>\n",
       "      <td>-0.421024</td>\n",
       "      <td>1.614069</td>\n",
       "      <td>-1.431538</td>\n",
       "      <td>-0.566113</td>\n",
       "      <td>-0.345614</td>\n",
       "      <td>-0.382313</td>\n",
       "      <td>-0.110173</td>\n",
       "      <td>-1.536454</td>\n",
       "    </tr>\n",
       "    <tr>\n",
       "      <th>4</th>\n",
       "      <td>0.119065</td>\n",
       "      <td>0.709232</td>\n",
       "      <td>0.577687</td>\n",
       "      <td>0.014741</td>\n",
       "      <td>-0.256073</td>\n",
       "      <td>-0.054663</td>\n",
       "      <td>-0.516189</td>\n",
       "      <td>-0.036201</td>\n",
       "      <td>0.061393</td>\n",
       "      <td>0.216342</td>\n",
       "      <td>...</td>\n",
       "      <td>-0.472993</td>\n",
       "      <td>-0.366118</td>\n",
       "      <td>-0.407890</td>\n",
       "      <td>0.671169</td>\n",
       "      <td>-1.489062</td>\n",
       "      <td>-0.460849</td>\n",
       "      <td>-0.453621</td>\n",
       "      <td>-0.380264</td>\n",
       "      <td>-0.110000</td>\n",
       "      <td>-1.536454</td>\n",
       "    </tr>\n",
       "  </tbody>\n",
       "</table>\n",
       "<p>5 rows × 36 columns</p>\n",
       "</div>"
      ],
      "text/plain": [
       "   max_pitch  avg_pitch  var_pitch  harmonic  harmonic_var  percussive  \\\n",
       "0   0.134618   1.497048   1.427502  0.013215     -0.367059   -0.025919   \n",
       "1   0.010203   0.015233   0.070633  0.015147     -0.303830   -0.055289   \n",
       "2   0.146101   1.471575   1.444029  0.015656     -0.361652   -0.028862   \n",
       "3   0.165802   1.705779   1.652495  0.018674     -0.213264    0.034075   \n",
       "4   0.119065   0.709232   0.577687  0.014741     -0.256073   -0.054663   \n",
       "\n",
       "   percussive_var  Chroma_cens  Chroma_cens_var  chroma_stft_mean    ...     \\\n",
       "0       -0.609430    -0.435296         0.459593          0.055698    ...      \n",
       "1       -0.616144    -1.464748         1.450149         -1.121674    ...      \n",
       "2       -0.622881    -0.977221         0.987616          0.455043    ...      \n",
       "3       -0.552192     0.432367        -0.416241          1.107418    ...      \n",
       "4       -0.516189    -0.036201         0.061393          0.216342    ...      \n",
       "\n",
       "   tonnetz_var  poly_features_mean  poly_features_var  spec_bw_mean  \\\n",
       "0     0.335613           -0.757561          -0.535312      1.564331   \n",
       "1     0.450154           -0.695120          -0.537370      1.313576   \n",
       "2    -0.660327           -0.715312          -0.550556      1.205559   \n",
       "3    -0.767128           -0.512851          -0.421024      1.614069   \n",
       "4    -0.472993           -0.366118          -0.407890      0.671169   \n",
       "\n",
       "   spec_bw_var  rmse_mean  rmse_var  melspec_mean  melspec_var    Gender  \n",
       "0    -1.714809  -0.879058 -0.618564     -0.510132    -0.115543 -1.536454  \n",
       "1    -1.503763  -0.712445 -0.612577     -0.475628    -0.114983 -1.536454  \n",
       "2    -1.289373  -0.844925 -0.651262     -0.511391    -0.115663 -1.536454  \n",
       "3    -1.431538  -0.566113 -0.345614     -0.382313    -0.110173 -1.536454  \n",
       "4    -1.489062  -0.460849 -0.453621     -0.380264    -0.110000 -1.536454  \n",
       "\n",
       "[5 rows x 36 columns]"
      ]
     },
     "execution_count": 5,
     "metadata": {},
     "output_type": "execute_result"
    }
   ],
   "source": [
    "from sklearn.preprocessing import StandardScaler\n",
    "ss=StandardScaler()\n",
    "df_scaled = pd.DataFrame(ss.fit_transform(pred))\n",
    "df_scaled.columns = col\n",
    "df_scaled.head()\n",
    "#df_scaled.var()"
   ]
  },
  {
   "cell_type": "code",
   "execution_count": 6,
   "metadata": {},
   "outputs": [],
   "source": [
    "from sklearn.model_selection import train_test_split\n",
    "xtrain,xtest,ytrain,ytest = train_test_split(df_scaled,target,test_size = 0.2,stratify = target)"
   ]
  },
  {
   "cell_type": "markdown",
   "metadata": {},
   "source": [
    "# Decision Tree Classifier"
   ]
  },
  {
   "cell_type": "code",
   "execution_count": 19,
   "metadata": {},
   "outputs": [],
   "source": [
    "from sklearn import tree\n",
    "from sklearn.model_selection import GridSearchCV\n",
    "model = tree.DecisionTreeClassifier()\n",
    "param_grid = {'criterion': ['gini','entropy']}\n",
    "dtree_cv = GridSearchCV(model,param_grid,cv= 10)\n",
    "dtree_cv.fit(xtrain,ytrain)\n",
    "dtree_ypred = dtree_cv.predict(xtest)"
   ]
  },
  {
   "cell_type": "code",
   "execution_count": 20,
   "metadata": {},
   "outputs": [
    {
     "data": {
      "text/plain": [
       "{'criterion': 'entropy'}"
      ]
     },
     "execution_count": 20,
     "metadata": {},
     "output_type": "execute_result"
    }
   ],
   "source": [
    "dtree_cv.best_params_"
   ]
  },
  {
   "cell_type": "markdown",
   "metadata": {},
   "source": [
    "# Classification Report"
   ]
  },
  {
   "cell_type": "code",
   "execution_count": 21,
   "metadata": {},
   "outputs": [
    {
     "name": "stdout",
     "output_type": "stream",
     "text": [
      "             precision    recall  f1-score   support\n",
      "\n",
      "          0       0.66      0.66      0.66        32\n",
      "          1       0.18      0.13      0.15        15\n",
      "          2       0.40      0.40      0.40        10\n",
      "          3       0.31      0.31      0.31        48\n",
      "          4       0.20      0.09      0.13        11\n",
      "          5       0.50      0.53      0.52        15\n",
      "          6       0.39      0.43      0.41        37\n",
      "          7       0.38      0.23      0.29        13\n",
      "          8       0.64      0.43      0.52        37\n",
      "          9       0.50      0.46      0.48        13\n",
      "         10       0.73      0.62      0.67        13\n",
      "         11       0.42      0.47      0.44        17\n",
      "         12       0.39      0.41      0.40        17\n",
      "         13       0.61      0.66      0.63        47\n",
      "         14       1.00      0.72      0.84        18\n",
      "         15       0.65      0.68      0.67        19\n",
      "         16       0.67      0.73      0.70        30\n",
      "         17       0.30      0.33      0.32         9\n",
      "         18       0.56      0.56      0.56         9\n",
      "         19       0.31      0.29      0.30        17\n",
      "         20       0.30      0.30      0.30        27\n",
      "         21       0.90      0.60      0.72        15\n",
      "         22       0.54      0.58      0.56        53\n",
      "         23       0.49      0.56      0.52        39\n",
      "         24       0.50      0.57      0.53        28\n",
      "         25       0.29      0.28      0.29        18\n",
      "         26       0.22      0.25      0.23        20\n",
      "         27       0.18      0.19      0.18        16\n",
      "         28       0.35      0.36      0.35        25\n",
      "         29       0.45      0.50      0.48        10\n",
      "         30       0.69      0.69      0.69        61\n",
      "         31       0.43      0.33      0.38         9\n",
      "         32       0.38      0.36      0.37        33\n",
      "         33       0.89      0.76      0.82        21\n",
      "         34       0.28      0.34      0.31        32\n",
      "         35       0.44      0.44      0.44        27\n",
      "         36       0.69      0.65      0.67        37\n",
      "         37       0.70      0.74      0.72        31\n",
      "         38       0.67      0.77      0.71        13\n",
      "         39       0.37      0.39      0.38        33\n",
      "\n",
      "avg / total       0.50      0.50      0.50       975\n",
      "\n"
     ]
    }
   ],
   "source": [
    "from sklearn.metrics import classification_report\n",
    "print(classification_report(ytest,dtree_ypred))"
   ]
  },
  {
   "cell_type": "markdown",
   "metadata": {},
   "source": [
    "# AUC Decision Tree"
   ]
  },
  {
   "cell_type": "code",
   "execution_count": 316,
   "metadata": {},
   "outputs": [
    {
     "data": {
      "text/plain": [
       "0.8269230769230769"
      ]
     },
     "execution_count": 316,
     "metadata": {},
     "output_type": "execute_result"
    }
   ],
   "source": [
    "dtree_ypred = dtree_cv.predict(xtest)\n",
    "from sklearn import metrics\n",
    "fpr, tpr, thresholds = metrics.roc_curve(ytest, dtree_ypred ,pos_label = 38)\n",
    "roc_auc = metrics.auc(fpr, tpr)\n",
    "roc_auc"
   ]
  },
  {
   "cell_type": "code",
   "execution_count": 317,
   "metadata": {},
   "outputs": [
    {
     "data": {
      "image/png": "[encoded data removed]",
      "text/plain": [
       "<Figure size 432x288 with 1 Axes>"
      ]
     },
     "metadata": {},
     "output_type": "display_data"
    }
   ],
   "source": [
    "plt.figure()\n",
    "lw = 2\n",
    "plt.plot(fpr, tpr, color='darkorange',\n",
    "         lw=lw, label='ROC curve (area = %0.2f)' % roc_auc)\n",
    "plt.plot([0, 1], [0, 1], color='navy', lw=lw, linestyle='--')\n",
    "plt.xlim([0.0, 1.0])\n",
    "plt.ylim([0.0, 1.05])\n",
    "plt.xlabel('False Positive Rate')\n",
    "plt.ylabel('True Positive Rate')\n",
    "plt.title('Receiver operating characteristic curve - DecisionTree')\n",
    "plt.legend(loc=\"lower right\")\n",
    "plt.show()"
   ]
  },
  {
   "cell_type": "markdown",
   "metadata": {},
   "source": [
    "# K Nearest Neighbour Classifier"
   ]
  },
  {
   "cell_type": "code",
   "execution_count": 10,
   "metadata": {},
   "outputs": [
    {
     "data": {
      "text/plain": [
       "GridSearchCV(cv=10, error_score='raise',\n",
       "       estimator=KNeighborsClassifier(algorithm='auto', leaf_size=30, metric='minkowski',\n",
       "           metric_params=None, n_jobs=1, n_neighbors=5, p=2,\n",
       "           weights='uniform'),\n",
       "       fit_params=None, iid=True, n_jobs=1,\n",
       "       param_grid={'n_neighbors': array([ 1,  2,  3,  4,  5,  6,  7,  8,  9, 10, 11, 12, 13, 14, 15, 16, 17,\n",
       "       18, 19])},\n",
       "       pre_dispatch='2*n_jobs', refit=True, return_train_score='warn',\n",
       "       scoring=None, verbose=0)"
      ]
     },
     "execution_count": 10,
     "metadata": {},
     "output_type": "execute_result"
    }
   ],
   "source": [
    "from sklearn.neighbors import KNeighborsClassifier\n",
    "from sklearn.model_selection import GridSearchCV\n",
    "param_grid = {'n_neighbors': np.arange(1,20)}\n",
    "knn = KNeighborsClassifier()\n",
    "knn_cv = GridSearchCV(knn,param_grid,cv= 10)\n",
    "knn_cv.fit(xtrain,ytrain)"
   ]
  },
  {
   "cell_type": "code",
   "execution_count": 11,
   "metadata": {},
   "outputs": [
    {
     "data": {
      "text/plain": [
       "0.7261538461538461"
      ]
     },
     "execution_count": 11,
     "metadata": {},
     "output_type": "execute_result"
    }
   ],
   "source": [
    "knn_cv.score(xtest,ytest)"
   ]
  },
  {
   "cell_type": "code",
   "execution_count": 12,
   "metadata": {},
   "outputs": [
    {
     "data": {
      "text/plain": [
       "{'n_neighbors': 1}"
      ]
     },
     "execution_count": 12,
     "metadata": {},
     "output_type": "execute_result"
    }
   ],
   "source": [
    "knn_cv.best_params_"
   ]
  },
  {
   "cell_type": "code",
   "execution_count": 13,
   "metadata": {},
   "outputs": [
    {
     "data": {
      "text/plain": [
       "0.7388404309902514"
      ]
     },
     "execution_count": 13,
     "metadata": {},
     "output_type": "execute_result"
    }
   ],
   "source": [
    "knn_cv.best_score_"
   ]
  },
  {
   "cell_type": "code",
   "execution_count": 14,
   "metadata": {},
   "outputs": [],
   "source": [
    "knn_ypred = knn_cv.predict(xtest)"
   ]
  },
  {
   "cell_type": "code",
   "execution_count": 15,
   "metadata": {},
   "outputs": [
    {
     "name": "stdout",
     "output_type": "stream",
     "text": [
      "             precision    recall  f1-score   support\n",
      "\n",
      "          0       0.81      0.81      0.81        32\n",
      "          1       0.67      0.40      0.50        15\n",
      "          2       0.67      0.60      0.63        10\n",
      "          3       0.62      0.67      0.64        48\n",
      "          4       0.42      0.45      0.43        11\n",
      "          5       0.77      0.67      0.71        15\n",
      "          6       0.74      0.68      0.70        37\n",
      "          7       0.50      0.54      0.52        13\n",
      "          8       0.77      0.54      0.63        37\n",
      "          9       0.64      0.69      0.67        13\n",
      "         10       0.79      0.85      0.81        13\n",
      "         11       0.80      0.94      0.86        17\n",
      "         12       0.76      0.76      0.76        17\n",
      "         13       0.76      0.89      0.82        47\n",
      "         14       0.84      0.89      0.86        18\n",
      "         15       0.79      0.79      0.79        19\n",
      "         16       0.90      0.87      0.88        30\n",
      "         17       0.56      0.56      0.56         9\n",
      "         18       0.50      0.67      0.57         9\n",
      "         19       0.79      0.65      0.71        17\n",
      "         20       0.61      0.52      0.56        27\n",
      "         21       0.87      0.87      0.87        15\n",
      "         22       0.67      0.89      0.76        53\n",
      "         23       0.61      0.64      0.62        39\n",
      "         24       0.91      0.75      0.82        28\n",
      "         25       0.75      0.50      0.60        18\n",
      "         26       0.50      0.45      0.47        20\n",
      "         27       0.60      0.19      0.29        16\n",
      "         28       0.50      0.56      0.53        25\n",
      "         29       1.00      0.90      0.95        10\n",
      "         30       0.83      0.97      0.89        61\n",
      "         31       0.78      0.78      0.78         9\n",
      "         32       0.69      0.76      0.72        33\n",
      "         33       0.86      0.90      0.88        21\n",
      "         34       0.49      0.62      0.55        32\n",
      "         35       0.77      0.63      0.69        27\n",
      "         36       0.91      0.78      0.84        37\n",
      "         37       0.94      0.94      0.94        31\n",
      "         38       0.64      0.69      0.67        13\n",
      "         39       0.77      0.70      0.73        33\n",
      "\n",
      "avg / total       0.73      0.73      0.72       975\n",
      "\n"
     ]
    }
   ],
   "source": [
    "print(classification_report(ytest,knn_ypred))"
   ]
  },
  {
   "cell_type": "markdown",
   "metadata": {},
   "source": [
    "# AUC KNN Classifier"
   ]
  },
  {
   "cell_type": "code",
   "execution_count": 309,
   "metadata": {},
   "outputs": [
    {
     "data": {
      "text/plain": [
       "0.7882616344154805"
      ]
     },
     "execution_count": 309,
     "metadata": {},
     "output_type": "execute_result"
    }
   ],
   "source": [
    "knn_ypred = knn_cv.predict(xtest)\n",
    "from sklearn import metrics\n",
    "fpr, tpr, thresholds = metrics.roc_curve(ytest, knn_ypred ,pos_label = 38)\n",
    "roc_auc = metrics.auc(fpr, tpr)\n",
    "roc_auc"
   ]
  },
  {
   "cell_type": "code",
   "execution_count": 310,
   "metadata": {},
   "outputs": [
    {
     "data": {
      "image/png": "[encoded data removed]",
      "text/plain": [
       "<Figure size 432x288 with 1 Axes>"
      ]
     },
     "metadata": {},
     "output_type": "display_data"
    }
   ],
   "source": [
    "plt.figure()\n",
    "lw = 2\n",
    "plt.plot(fpr, tpr, color='darkorange',\n",
    "         lw=lw, label='ROC curve (area = %0.2f)' % roc_auc)\n",
    "plt.plot([0, 1], [0, 1], color='navy', lw=lw, linestyle='--')\n",
    "plt.xlim([0.0, 1.0])\n",
    "plt.ylim([0.0, 1.05])\n",
    "plt.xlabel('False Positive Rate')\n",
    "plt.ylabel('True Positive Rate')\n",
    "plt.title('Receiver operating characteristic curve - KNN')\n",
    "plt.legend(loc=\"lower right\")\n",
    "plt.show()"
   ]
  },
  {
   "cell_type": "markdown",
   "metadata": {},
   "source": [
    "# Random Forest Classifier"
   ]
  },
  {
   "cell_type": "code",
   "execution_count": 22,
   "metadata": {},
   "outputs": [
    {
     "data": {
      "text/plain": [
       "GridSearchCV(cv=10, error_score='raise',\n",
       "       estimator=RandomForestClassifier(bootstrap=True, class_weight=None, criterion='gini',\n",
       "            max_depth=None, max_features='auto', max_leaf_nodes=None,\n",
       "            min_impurity_decrease=0.0, min_impurity_split=None,\n",
       "            min_samples_leaf=1, min_samples_split=2,\n",
       "            min_weight_fraction_leaf=0.0, n_estimators=16, n_jobs=1,\n",
       "            oob_score=False, random_state=None, verbose=0,\n",
       "            warm_start=False),\n",
       "       fit_params=None, iid=True, n_jobs=1,\n",
       "       param_grid={'n_estimators': array([ 1,  2,  3,  4,  5,  6,  7,  8,  9, 10, 11, 12, 13, 14, 15, 16, 17,\n",
       "       18, 19, 20, 21, 22, 23, 24, 25, 26, 27, 28, 29, 30, 31, 32, 33, 34,\n",
       "       35, 36, 37, 38, 39])},\n",
       "       pre_dispatch='2*n_jobs', refit=True, return_train_score='warn',\n",
       "       scoring=None, verbose=0)"
      ]
     },
     "execution_count": 22,
     "metadata": {},
     "output_type": "execute_result"
    }
   ],
   "source": [
    "from sklearn.ensemble import RandomForestClassifier\n",
    "model1 = RandomForestClassifier(n_estimators = 16)\n",
    "param = {'n_estimators':np.arange(1,40)}\n",
    "rmodel_cv = GridSearchCV(model1,param,cv=10)\n",
    "rmodel_cv.fit(xtrain,ytrain)"
   ]
  },
  {
   "cell_type": "code",
   "execution_count": 23,
   "metadata": {},
   "outputs": [
    {
     "data": {
      "text/plain": [
       "{'n_estimators': 39}"
      ]
     },
     "execution_count": 23,
     "metadata": {},
     "output_type": "execute_result"
    }
   ],
   "source": [
    "rmodel_cv.best_params_"
   ]
  },
  {
   "cell_type": "code",
   "execution_count": 24,
   "metadata": {},
   "outputs": [
    {
     "data": {
      "text/plain": [
       "0.7378142637249872"
      ]
     },
     "execution_count": 24,
     "metadata": {},
     "output_type": "execute_result"
    }
   ],
   "source": [
    "rmodel_cv.best_score_"
   ]
  },
  {
   "cell_type": "code",
   "execution_count": 25,
   "metadata": {},
   "outputs": [
    {
     "data": {
      "text/plain": [
       "0.7528205128205128"
      ]
     },
     "execution_count": 25,
     "metadata": {},
     "output_type": "execute_result"
    }
   ],
   "source": [
    "rmodel_cv.score(xtest,ytest)"
   ]
  },
  {
   "cell_type": "code",
   "execution_count": 26,
   "metadata": {},
   "outputs": [],
   "source": [
    "y_pred = rmodel_cv.predict(xtest)"
   ]
  },
  {
   "cell_type": "code",
   "execution_count": 29,
   "metadata": {},
   "outputs": [
    {
     "name": "stdout",
     "output_type": "stream",
     "text": [
      "             precision    recall  f1-score   support\n",
      "\n",
      "          0       0.70      0.81      0.75        32\n",
      "          1       0.71      0.33      0.45        15\n",
      "          2       0.50      0.50      0.50        10\n",
      "          3       0.56      0.77      0.65        48\n",
      "          4       1.00      0.45      0.62        11\n",
      "          5       0.92      0.73      0.81        15\n",
      "          6       0.66      0.73      0.69        37\n",
      "          7       0.80      0.31      0.44        13\n",
      "          8       0.77      0.81      0.79        37\n",
      "          9       0.82      0.69      0.75        13\n",
      "         10       0.86      0.92      0.89        13\n",
      "         11       0.70      0.82      0.76        17\n",
      "         12       0.61      0.82      0.70        17\n",
      "         13       0.78      0.96      0.86        47\n",
      "         14       0.88      0.83      0.86        18\n",
      "         15       0.94      0.79      0.86        19\n",
      "         16       0.87      0.87      0.87        30\n",
      "         17       1.00      0.22      0.36         9\n",
      "         18       1.00      0.67      0.80         9\n",
      "         19       0.93      0.76      0.84        17\n",
      "         20       0.62      0.59      0.60        27\n",
      "         21       0.79      0.73      0.76        15\n",
      "         22       0.64      0.91      0.75        53\n",
      "         23       0.63      0.74      0.68        39\n",
      "         24       0.86      0.86      0.86        28\n",
      "         25       1.00      0.44      0.62        18\n",
      "         26       0.88      0.35      0.50        20\n",
      "         27       0.80      0.25      0.38        16\n",
      "         28       0.70      0.76      0.73        25\n",
      "         29       0.90      0.90      0.90        10\n",
      "         30       0.85      0.93      0.89        61\n",
      "         31       0.88      0.78      0.82         9\n",
      "         32       0.66      0.76      0.70        33\n",
      "         33       1.00      1.00      1.00        21\n",
      "         34       0.65      0.62      0.63        32\n",
      "         35       0.86      0.67      0.75        27\n",
      "         36       0.77      0.81      0.79        37\n",
      "         37       0.80      0.77      0.79        31\n",
      "         38       0.93      1.00      0.96        13\n",
      "         39       0.88      0.70      0.78        33\n",
      "\n",
      "avg / total       0.77      0.75      0.75       975\n",
      "\n"
     ]
    }
   ],
   "source": [
    "from sklearn.metrics import classification_report\n",
    "print(classification_report(ytest,y_pred))"
   ]
  },
  {
   "cell_type": "code",
   "execution_count": 295,
   "metadata": {},
   "outputs": [
    {
     "data": {
      "text/plain": [
       "array([[26,  0,  0, ...,  2,  0,  0],\n",
       "       [ 0,  5,  0, ...,  0,  0,  1],\n",
       "       [ 0,  0,  4, ...,  0,  0,  1],\n",
       "       ...,\n",
       "       [ 3,  0,  0, ..., 20,  0,  0],\n",
       "       [ 1,  0,  0, ...,  0, 10,  0],\n",
       "       [ 0,  0,  0, ...,  0,  0, 19]], dtype=int64)"
      ]
     },
     "execution_count": 295,
     "metadata": {},
     "output_type": "execute_result"
    }
   ],
   "source": [
    "from sklearn.metrics import confusion_matrix\n",
    "import seaborn as sns\n",
    "cm = confusion_matrix(ytest,y_pred)\n",
    "cm"
   ]
  },
  {
   "cell_type": "code",
   "execution_count": 296,
   "metadata": {},
   "outputs": [
    {
     "data": {
      "text/plain": [
       "Text(123,0.5,'truth')"
      ]
     },
     "execution_count": 296,
     "metadata": {},
     "output_type": "execute_result"
    },
    {
     "data": {
      "image/png": "[encoded data removed]",
      "text/plain": [
       "<Figure size 1152x576 with 2 Axes>"
      ]
     },
     "metadata": {},
     "output_type": "display_data"
    }
   ],
   "source": [
    "plt.figure(figsize = (16,8))\n",
    "sns.heatmap(cm,annot=True)\n",
    "plt.xlabel('predicted')\n",
    "plt.ylabel('truth')"
   ]
  },
  {
   "cell_type": "markdown",
   "metadata": {},
   "source": [
    "# AUC Random Forest"
   ]
  },
  {
   "cell_type": "code",
   "execution_count": 314,
   "metadata": {},
   "outputs": [
    {
     "data": {
      "text/plain": [
       "0.8590990779809344"
      ]
     },
     "execution_count": 314,
     "metadata": {},
     "output_type": "execute_result"
    }
   ],
   "source": [
    "from sklearn import metrics\n",
    "#y = np.array([1, 1, 2, 2])\n",
    "#pred = np.array([0.1, 0.4, 0.35, 0.8])\n",
    "fpr, tpr, thresholds = metrics.roc_curve(ytest, y_pred ,pos_label = 35)\n",
    "roc_auc = metrics.auc(fpr, tpr)\n",
    "roc_auc"
   ]
  },
  {
   "cell_type": "code",
   "execution_count": 315,
   "metadata": {},
   "outputs": [
    {
     "data": {
      "image/png": "[encoded data removed]",
      "text/plain": [
       "<Figure size 432x288 with 1 Axes>"
      ]
     },
     "metadata": {},
     "output_type": "display_data"
    }
   ],
   "source": [
    "plt.figure()\n",
    "lw = 2\n",
    "plt.plot(fpr, tpr, color='darkorange',\n",
    "         lw=lw, label='ROC curve (area = %0.2f)' % roc_auc)\n",
    "plt.plot([0, 1], [0, 1], color='navy', lw=lw, linestyle='--')\n",
    "plt.xlim([0.0, 1.0])\n",
    "plt.ylim([0.0, 1.05])\n",
    "plt.xlabel('False Positive Rate')\n",
    "plt.ylabel('True Positive Rate')\n",
    "plt.title('Receiver operating characteristic curve - RandomForest')\n",
    "plt.legend(loc=\"lower right\")\n",
    "plt.show()"
   ]
  },
  {
   "cell_type": "markdown",
   "metadata": {},
   "source": [
    "# Naive Bayes "
   ]
  },
  {
   "cell_type": "code",
   "execution_count": 30,
   "metadata": {},
   "outputs": [
    {
     "data": {
      "text/plain": [
       "GaussianNB(priors=None)"
      ]
     },
     "execution_count": 30,
     "metadata": {},
     "output_type": "execute_result"
    }
   ],
   "source": [
    "from sklearn.naive_bayes import GaussianNB \n",
    "gnb = GaussianNB() \n",
    "gnb.fit(xtrain, ytrain) "
   ]
  },
  {
   "cell_type": "code",
   "execution_count": 31,
   "metadata": {},
   "outputs": [
    {
     "data": {
      "text/plain": [
       "array([0.38271605, 0.34243176, 0.38131313, 0.35114504, 0.35641026,\n",
       "       0.3685567 , 0.39378238, 0.33942559, 0.38157895, 0.36631016])"
      ]
     },
     "execution_count": 31,
     "metadata": {},
     "output_type": "execute_result"
    }
   ],
   "source": [
    "from sklearn.model_selection import cross_val_score\n",
    "cv=cross_val_score(gnb,xtrain,ytrain,cv=10)\n",
    "cv"
   ]
  },
  {
   "cell_type": "code",
   "execution_count": 32,
   "metadata": {},
   "outputs": [
    {
     "name": "stdout",
     "output_type": "stream",
     "text": [
      "             precision    recall  f1-score   support\n",
      "\n",
      "          0       0.66      0.66      0.66        32\n",
      "          1       0.18      0.13      0.15        15\n",
      "          2       0.40      0.40      0.40        10\n",
      "          3       0.31      0.31      0.31        48\n",
      "          4       0.20      0.09      0.13        11\n",
      "          5       0.50      0.53      0.52        15\n",
      "          6       0.39      0.43      0.41        37\n",
      "          7       0.38      0.23      0.29        13\n",
      "          8       0.64      0.43      0.52        37\n",
      "          9       0.50      0.46      0.48        13\n",
      "         10       0.73      0.62      0.67        13\n",
      "         11       0.42      0.47      0.44        17\n",
      "         12       0.39      0.41      0.40        17\n",
      "         13       0.61      0.66      0.63        47\n",
      "         14       1.00      0.72      0.84        18\n",
      "         15       0.65      0.68      0.67        19\n",
      "         16       0.67      0.73      0.70        30\n",
      "         17       0.30      0.33      0.32         9\n",
      "         18       0.56      0.56      0.56         9\n",
      "         19       0.31      0.29      0.30        17\n",
      "         20       0.30      0.30      0.30        27\n",
      "         21       0.90      0.60      0.72        15\n",
      "         22       0.54      0.58      0.56        53\n",
      "         23       0.49      0.56      0.52        39\n",
      "         24       0.50      0.57      0.53        28\n",
      "         25       0.29      0.28      0.29        18\n",
      "         26       0.22      0.25      0.23        20\n",
      "         27       0.18      0.19      0.18        16\n",
      "         28       0.35      0.36      0.35        25\n",
      "         29       0.45      0.50      0.48        10\n",
      "         30       0.69      0.69      0.69        61\n",
      "         31       0.43      0.33      0.38         9\n",
      "         32       0.38      0.36      0.37        33\n",
      "         33       0.89      0.76      0.82        21\n",
      "         34       0.28      0.34      0.31        32\n",
      "         35       0.44      0.44      0.44        27\n",
      "         36       0.69      0.65      0.67        37\n",
      "         37       0.70      0.74      0.72        31\n",
      "         38       0.67      0.77      0.71        13\n",
      "         39       0.37      0.39      0.38        33\n",
      "\n",
      "avg / total       0.50      0.50      0.50       975\n",
      "\n"
     ]
    }
   ],
   "source": [
    "gnb_ypred = gnb.predict(xtest)\n",
    "from sklearn.metrics import classification_report\n",
    "print(classification_report(ytest,dtree_ypred))"
   ]
  },
  {
   "cell_type": "code",
   "execution_count": 312,
   "metadata": {},
   "outputs": [
    {
     "data": {
      "text/plain": [
       "0.6348034484977161"
      ]
     },
     "execution_count": 312,
     "metadata": {},
     "output_type": "execute_result"
    }
   ],
   "source": [
    "nb_ypred = gnb.predict(xtest)\n",
    "from sklearn import metrics\n",
    "fpr, tpr, thresholds = metrics.roc_curve(ytest, nb_ypred ,pos_label = 39)\n",
    "roc_auc = metrics.auc(fpr, tpr)\n",
    "roc_auc"
   ]
  },
  {
   "cell_type": "code",
   "execution_count": 313,
   "metadata": {},
   "outputs": [
    {
     "data": {
      "image/png": "[encoded data removed]",
      "text/plain": [
       "<Figure size 432x288 with 1 Axes>"
      ]
     },
     "metadata": {},
     "output_type": "display_data"
    }
   ],
   "source": [
    "plt.figure()\n",
    "lw = 2\n",
    "plt.plot(fpr, tpr, color='darkorange',\n",
    "         lw=lw, label='ROC curve (area = %0.2f)' % roc_auc)\n",
    "plt.plot([0, 1], [0, 1], color='navy', lw=lw, linestyle='--')\n",
    "plt.xlim([0.0, 1.0])\n",
    "plt.ylim([0.0, 1.05])\n",
    "plt.xlabel('False Positive Rate')\n",
    "plt.ylabel('True Positive Rate')\n",
    "plt.title('Receiver operating characteristic curve - NaiveBayes')\n",
    "plt.legend(loc=\"lower right\")\n",
    "plt.show()"
   ]
  },
  {
   "cell_type": "code",
   "execution_count": 65,
   "metadata": {},
   "outputs": [
    {
     "data": {
      "text/html": [
       "<div>\n",
       "<style scoped>\n",
       "    .dataframe tbody tr th:only-of-type {\n",
       "        vertical-align: middle;\n",
       "    }\n",
       "\n",
       "    .dataframe tbody tr th {\n",
       "        vertical-align: top;\n",
       "    }\n",
       "\n",
       "    .dataframe thead th {\n",
       "        text-align: right;\n",
       "    }\n",
       "</style>\n",
       "<table border=\"1\" class=\"dataframe\">\n",
       "  <thead>\n",
       "    <tr style=\"text-align: right;\">\n",
       "      <th></th>\n",
       "      <th>ID</th>\n",
       "      <th>class</th>\n",
       "      <th>targetname</th>\n",
       "      <th>Gender</th>\n",
       "    </tr>\n",
       "  </thead>\n",
       "  <tbody>\n",
       "    <tr>\n",
       "      <th>0</th>\n",
       "      <td>id10270</td>\n",
       "      <td>0</td>\n",
       "      <td>Eartha_Kitest</td>\n",
       "      <td>0</td>\n",
       "    </tr>\n",
       "    <tr>\n",
       "      <th>1</th>\n",
       "      <td>id10271</td>\n",
       "      <td>1</td>\n",
       "      <td>Ed_Westwick</td>\n",
       "      <td>1</td>\n",
       "    </tr>\n",
       "    <tr>\n",
       "      <th>2</th>\n",
       "      <td>id10272</td>\n",
       "      <td>2</td>\n",
       "      <td>Eddie_Griffin</td>\n",
       "      <td>1</td>\n",
       "    </tr>\n",
       "    <tr>\n",
       "      <th>3</th>\n",
       "      <td>id10273</td>\n",
       "      <td>3</td>\n",
       "      <td>Eddie_Izzar</td>\n",
       "      <td>1</td>\n",
       "    </tr>\n",
       "    <tr>\n",
       "      <th>4</th>\n",
       "      <td>id10274</td>\n",
       "      <td>4</td>\n",
       "      <td>Eddie_Kaye_Thomas</td>\n",
       "      <td>1</td>\n",
       "    </tr>\n",
       "  </tbody>\n",
       "</table>\n",
       "</div>"
      ],
      "text/plain": [
       "        ID  class         targetname  Gender\n",
       "0  id10270      0      Eartha_Kitest       0\n",
       "1  id10271      1        Ed_Westwick       1\n",
       "2  id10272      2      Eddie_Griffin       1\n",
       "3  id10273      3        Eddie_Izzar       1\n",
       "4  id10274      4  Eddie_Kaye_Thomas       1"
      ]
     },
     "execution_count": 65,
     "metadata": {},
     "output_type": "execute_result"
    }
   ],
   "source": [
    "result = pd.read_csv('metavox1.csv')\n",
    "rs = pd.DataFrame(result)\n",
    "rs.Gender = rs.Gender.map({'M':1,'F':0})\n",
    "rs.head()"
   ]
  },
  {
   "cell_type": "code",
   "execution_count": 149,
   "metadata": {},
   "outputs": [
    {
     "data": {
      "text/html": [
       "<div>\n",
       "<style scoped>\n",
       "    .dataframe tbody tr th:only-of-type {\n",
       "        vertical-align: middle;\n",
       "    }\n",
       "\n",
       "    .dataframe tbody tr th {\n",
       "        vertical-align: top;\n",
       "    }\n",
       "\n",
       "    .dataframe thead th {\n",
       "        text-align: right;\n",
       "    }\n",
       "</style>\n",
       "<table border=\"1\" class=\"dataframe\">\n",
       "  <thead>\n",
       "    <tr style=\"text-align: right;\">\n",
       "      <th></th>\n",
       "      <th>ID</th>\n",
       "      <th>class</th>\n",
       "      <th>targetname</th>\n",
       "      <th>Gender</th>\n",
       "    </tr>\n",
       "  </thead>\n",
       "  <tbody>\n",
       "    <tr>\n",
       "      <th>2</th>\n",
       "      <td>id10272</td>\n",
       "      <td>2</td>\n",
       "      <td>Eddie_Griffin</td>\n",
       "      <td>1</td>\n",
       "    </tr>\n",
       "  </tbody>\n",
       "</table>\n",
       "</div>"
      ],
      "text/plain": [
       "        ID  class     targetname  Gender\n",
       "2  id10272      2  Eddie_Griffin       1"
      ]
     },
     "execution_count": 149,
     "metadata": {},
     "output_type": "execute_result"
    }
   ],
   "source": [
    "dtyr = rs[rs.targetname =='Eddie_Griffin']\n",
    "dtyr"
   ]
  },
  {
   "cell_type": "markdown",
   "metadata": {},
   "source": [
    "# GUI Speaker Identification"
   ]
  },
  {
   "cell_type": "code",
   "execution_count": 243,
   "metadata": {},
   "outputs": [],
   "source": [
    "class design:\n",
    "    def __init__(self,master):\n",
    "        self.master=master\n",
    "        self.filedir = StringVar()\n",
    "        self.speakername = str()\n",
    "        self.imgframe = None\n",
    "        self.downframe = None\n",
    "    \n",
    "    def plot_wav(self):\n",
    "        import matplotlib.pyplot as plt\n",
    "        from scipy.io import wavfile as wav\n",
    "        self.rate, self.data = wav.read(self.filedir)\n",
    "        %matplotlib inline\n",
    "        plt.clf()\n",
    "        plt.figure(figsize = (7,4))\n",
    "        plt.plot(self.data)\n",
    "        plt.xlabel('No of Frames')\n",
    "        plt.ylabel('Sampling Rate')\n",
    "        plt.title('Speaking Rate')\n",
    "        fig1 = plt.gcf()\n",
    "        fig1.savefig('audioplot')\n",
    "        self.imgframe = Frame(self.master,bg='white')\n",
    "        self.imgframe.pack()\n",
    "        self.pltimg = ImageTk.PhotoImage(Image.open('audioplot.png'))\n",
    "        self.imgpanel = Button(self.imgframe,image =self.pltimg)\n",
    "        self.imgpanel.pack(side = \"bottom\",fill=\"both\",expand=\"yes\")\n",
    "        self.downframe = Frame(self.master,padx =5,pady = 10,bg='white')\n",
    "        self.downframe.pack()\n",
    "        self.predbtn = Button(self.downframe,text='Predict Speaker',padx=10,bd=2,fg=('black'),font=('',12),bg=\"#1B9CFC\",command=self.pred_speaker).grid(row=0,column=0)\n",
    "    \n",
    "    def pred_speaker(self):\n",
    "        audio,sfreq = lr.load(self.filedir)\n",
    "        S = np.abs(lr.stft(audio))\n",
    "        pitches,magnitudes = lr.core.piptrack(y = audio ,sr = sfreq)\n",
    "        #min_pitch = np.min(pitches)\n",
    "        max_pitch = np.max(pitches)\n",
    "        avg_pitch = np.mean(pitches)\n",
    "        var_pitch = np.var(pitches)\n",
    "        y_harmonic, y_percussive = lr.effects.hpss(audio)\n",
    "        #print(np.mean(y_harmonic),np.mean(y_percussive))\n",
    "        harmonic = np.mean(y_harmonic)\n",
    "        harmonic_var = np.var(y_harmonic)\n",
    "        percussive = np.mean(y_percussive)\n",
    "        percussive_var = np.var(y_percussive)\n",
    "        chroma=lr.feature.chroma_cens(y=y_harmonic, sr=sfreq)\n",
    "        #print(np.mean(chroma))\n",
    "        Chroma_cens = np.mean(chroma)\n",
    "        Chroma_cens_var = np.var(chroma)\n",
    "\n",
    "        chroma_stft =lr.feature.chroma_stft(y=y_harmonic, sr=sfreq)\n",
    "        chroma_stft_mean = np.mean(chroma_stft)\n",
    "        chroma_stft_var = np.var(chroma_stft)\n",
    "\n",
    "        chroma_cqt =lr.feature.chroma_cqt(y=y_harmonic, sr=sfreq)\n",
    "        chroma_cqt_mean = np.mean(chroma_cqt)\n",
    "        chroma_cqt_var = np.var(chroma_cqt)\n",
    "\n",
    "        mfccs = lr.feature.mfcc(y=y_harmonic, sr=sfreq)\n",
    "        #print(np.mean(mfccs))\n",
    "        Mfccs = np.mean(mfccs)\n",
    "        Mfccs_var = np.var(mfccs)\n",
    "        delta = lr.feature.delta(mfccs)\n",
    "        mfcc_delta_mean = np.mean(delta)\n",
    "        mfcc_delta_var = np.var(delta)\n",
    "        contrast=lr.feature.spectral_contrast(y=y_harmonic,sr=sfreq)\n",
    "        #print(np.mean(contrast))\n",
    "        Contrast = np.mean(contrast)\n",
    "        Contrast_var = np.var(contrast)\n",
    "\n",
    "        rolloff = lr.feature.spectral_rolloff(y=audio, sr=sfreq)\n",
    "        #print(np.mean(rolloff))\n",
    "        Rolloff = np.mean(rolloff)\n",
    "        Rolloff_var = np.var(rolloff)\n",
    "\n",
    "        zrate=lr.feature.zero_crossing_rate(y_harmonic)\n",
    "        #print(np.mean(zrate) )\n",
    "        Zrate = np.mean(zrate)\n",
    "        Zrate_var = np.var(zrate)\n",
    "\n",
    "        cent = lr.feature.spectral_centroid(y=audio, sr=sfreq)\n",
    "        Cent = np.mean(cent)\n",
    "        Cent_var = np.var(cent)\n",
    "\n",
    "        tonnetz = lr.feature.tonnetz(y=audio, sr=sfreq)\n",
    "        tonnetz_mean = np.mean(tonnetz)\n",
    "        tonnetz_var = np.var(tonnetz)\n",
    "\n",
    "        poly_features = lr.feature.poly_features(S=S, sr=sfreq)\n",
    "        poly_features_mean = np.mean(poly_features)\n",
    "        poly_features_var = np.var(poly_features)\n",
    "\n",
    "        spec_bw = lr.feature.spectral_bandwidth(y=audio, sr=sfreq)\n",
    "        spec_bw_mean = np.mean(spec_bw)\n",
    "        spec_bw_var = np.var(spec_bw)\n",
    "\n",
    "        rmse = lr.feature.rmse(y=audio)\n",
    "        rmse_mean = np.mean(rmse)\n",
    "        rmse_var = np.var(rmse)\n",
    "\n",
    "        melspectrogram = lr.feature.melspectrogram(y=audio, sr=sfreq)\n",
    "        melspec_mean = np.mean(melspectrogram)\n",
    "        melspec_var = np.var(melspectrogram)\n",
    "        \n",
    "        sid = d.filedir[60:67]\n",
    "        dtyr = rs[rs.ID == sid]\n",
    "        pred1 = pd.DataFrame(pred)\n",
    "        pred1.loc[len(pred)] = list([max_pitch,avg_pitch,var_pitch,harmonic,harmonic_var,percussive,percussive_var,Chroma_cens,Chroma_cens_var,chroma_stft_mean,chroma_stft_var,chroma_cqt_mean,chroma_cqt_var,Mfccs,Mfccs_var,mfcc_delta_mean,mfcc_delta_var,Contrast,Contrast_var,Rolloff,Rolloff_var,Zrate,Zrate_var,Cent,Cent_var,tonnetz_mean,tonnetz_var,poly_features_mean,poly_features_var,spec_bw_mean,spec_bw_var,rmse_mean,rmse_var,melspec_mean,melspec_var,dtyr.Gender])\n",
    "        df_scaled1 = pd.DataFrame(ss.fit_transform(pred1))\n",
    "        df_scaled1.columns = col\n",
    "        \n",
    "        pred_val = rmodel_cv.predict([df_scaled1.loc[len(pred)]])\n",
    "        sname = rs[rs['class'] == pred_val[0]]\n",
    "        slist = list(sname.iloc[:,2])\n",
    "        self.speakername = str(slist[0])\n",
    "        Label(self.downframe,text= \"\"+self.speakername+\" is the Speaker!\",font=('',14),padx=6,pady=8,bg='white').grid(row=1,column=0)\n",
    "    \n",
    "    def browse_button(self):\n",
    "        # Allow user to select a directory and store it in global var\n",
    "        # called folder_path\n",
    "        #global filename\n",
    "        if(self.imgframe is not None):\n",
    "            self.imgframe.pack_forget()\n",
    "        if(self.downframe is not None):\n",
    "            self.downframe.pack_forget()\n",
    "        file = filedialog.askopenfilename(initialdir = \"C:/Users/SRIVIGNESH/ML-Exercises/vox1_test_wav/wav_modified\",title = \"Select file\")\n",
    "        #filename.set(file)\n",
    "        self.filedir = file\n",
    "        #print(self.filedir)\n",
    "        self.plot_wav()\n",
    "        \n",
    "    def main_ui(self):\n",
    "        self.mainframe = Frame(self.master,padx =5,pady = 10,bg='white')\n",
    "        self.mainframe.pack()\n",
    "        Label(self.mainframe,text=\"Select an audio file to Identify the Speaker\",font=('',14),padx=6,pady=8,bg='white').grid(row=0,column=0)\n",
    "        Button(self.mainframe, text=\"Upload a file\",bg=(\"#3B3B98\"),fg=('#58B19F'),font=('',12),command=self.browse_button,bd = 1).grid(row=1)"
   ]
  },
  {
   "cell_type": "code",
   "execution_count": 54,
   "metadata": {},
   "outputs": [],
   "source": [
    "def Main_Ui():\n",
    "    root = Tk()\n",
    "    root.title(\"Speaker Identification\")\n",
    "    root.geometry('1366x760')\n",
    "    root.configure(background='white')\n",
    "    fd_lbl=Label(root,text=\"SPEAKER IDENTIFICATION MODEL\",font = ('',35),pady = 7,bg='#ff6348')\n",
    "    fd_lbl.pack(fill=X)\n",
    "    d=design(root)\n",
    "    d.main_ui()\n",
    "    root.mainloop()"
   ]
  },
  {
   "cell_type": "code",
   "execution_count": 318,
   "metadata": {},
   "outputs": [
    {
     "data": {
      "text/plain": [
       "<Figure size 432x288 with 0 Axes>"
      ]
     },
     "metadata": {},
     "output_type": "display_data"
    },
    {
     "data": {
      "image/png": "[encoded data removed]",
      "text/plain": [
       "<Figure size 504x288 with 1 Axes>"
      ]
     },
     "metadata": {},
     "output_type": "display_data"
    }
   ],
   "source": [
    "Main_Ui()"
   ]
  },
  {
   "cell_type": "code",
   "execution_count": 276,
   "metadata": {},
   "outputs": [
    {
     "data": {
      "text/plain": [
       "Text(0.5,1,'Standardized Data (harmonic)')"
      ]
     },
     "execution_count": 276,
     "metadata": {},
     "output_type": "execute_result"
    },
    {
     "data": {
      "image/png": "[encoded data removed]",
      "text/plain": [
       "<Figure size 432x288 with 1 Axes>"
      ]
     },
     "metadata": {},
     "output_type": "display_data"
    }
   ],
   "source": [
    "plt.plot(df_scaled['harmonic'])\n",
    "plt.title('Standardized Data (harmonic)')"
   ]
  },
  {
   "cell_type": "code",
   "execution_count": 277,
   "metadata": {},
   "outputs": [
    {
     "data": {
      "text/plain": [
       "Text(0.5,1,'Actual Data (harmonic)')"
      ]
     },
     "execution_count": 277,
     "metadata": {},
     "output_type": "execute_result"
    },
    {
     "data": {
      "image/png": "[encoded data removed]",
      "text/plain": [
       "<Figure size 432x288 with 1 Axes>"
      ]
     },
     "metadata": {},
     "output_type": "display_data"
    }
   ],
   "source": [
    "plt.plot(df['harmonic'])\n",
    "plt.title('Actual Data (harmonic)')"
   ]
  },
  {
   "cell_type": "code",
   "execution_count": 288,
   "metadata": {},
   "outputs": [],
   "source": [
    "neighbors = np.arange(1, 40)\n",
    "train_accuracy = np.empty(len(neighbors))\n",
    "test_accuracy = np.empty(len(neighbors))"
   ]
  },
  {
   "cell_type": "code",
   "execution_count": 289,
   "metadata": {},
   "outputs": [
    {
     "data": {
      "image/png": "[encoded data removed]",
      "text/plain": [
       "<Figure size 432x288 with 1 Axes>"
      ]
     },
     "metadata": {},
     "output_type": "display_data"
    }
   ],
   "source": [
    "for k in neighbors:\n",
    "    model1 = RandomForestClassifier(n_estimators = k)\n",
    "    model1.fit(xtrain, ytrain)\n",
    "    \n",
    "    train_accuracy[k-1] = model1.score(xtrain, ytrain)\n",
    "\n",
    "    test_accuracy[k-1] = model1.score(xtest, ytest)\n",
    "    \n",
    "plt.title('Random Forest: Varying Number of trees')\n",
    "plt.plot(neighbors, test_accuracy, label = 'Testing Accuracy')\n",
    "plt.plot(neighbors, train_accuracy, label = 'Training Accuracy')\n",
    "plt.legend()\n",
    "plt.xlabel('Number of Trees')\n",
    "plt.ylabel('Accuracy')\n",
    "plt.show()"
   ]
  },
  {
   "cell_type": "code",
   "execution_count": null,
   "metadata": {},
   "outputs": [],
   "source": []
  }
 ],
 "metadata": {
  "kernelspec": {
   "display_name": "Python 3",
   "language": "python",
   "name": "python3"
  },
  "language_info": {
   "codemirror_mode": {
    "name": "ipython",
    "version": 3
   },
   "file_extension": ".py",
   "mimetype": "text/x-python",
   "name": "python",
   "nbconvert_exporter": "python",
   "pygments_lexer": "ipython3",
   "version": "3.6.5"
  }
 },
 "nbformat": 4,
 "nbformat_minor": 2
}
